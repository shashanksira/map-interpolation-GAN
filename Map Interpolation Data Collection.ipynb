{
 "cells": [
  {
   "cell_type": "code",
   "execution_count": null,
   "metadata": {},
   "outputs": [],
   "source": [
    "import requests\n",
    "from PIL import Image\n",
    "from io import BytesIO\n",
    "import pandas as pd\n",
    "\n",
    "API_KEY = \"\"# your api key here"
   ]
  },
  {
   "cell_type": "code",
   "execution_count": null,
   "metadata": {},
   "outputs": [],
   "source": [
    "dLat, dLong = 0.010122000000002629, 0.013259999999988281"
   ]
  },
  {
   "cell_type": "code",
   "execution_count": null,
   "metadata": {},
   "outputs": [],
   "source": [
    "df = pd.read_excel('Cities500.xlsx')\n",
    "df.head()"
   ]
  },
  {
   "cell_type": "code",
   "execution_count": null,
   "metadata": {},
   "outputs": [],
   "source": [
    "no_of_cities = df.count()[0]\n",
    "no_of_cities"
   ]
  },
  {
   "cell_type": "code",
   "execution_count": null,
   "metadata": {},
   "outputs": [],
   "source": [
    "import time"
   ]
  },
  {
   "cell_type": "code",
   "execution_count": null,
   "metadata": {},
   "outputs": [],
   "source": [
    "image_count = 0\n",
    "\n",
    "image_number = []\n",
    "image_city = []\n",
    "image_state = []\n",
    "image_latitude = []\n",
    "image_longitude = []\n",
    "\n",
    "df2 = pd.DataFrame()\n",
    "\n",
    "df2['ImageNumber'] = image_number\n",
    "df2['City'] = image_city\n",
    "df2['State'] = image_state\n",
    "df2['Latitude'] = image_latitude\n",
    "df2['Longitude'] = image_longitude"
   ]
  },
  {
   "cell_type": "code",
   "execution_count": null,
   "metadata": {},
   "outputs": [],
   "source": [
    "start_time = time.time()\n",
    "\n",
    "for city_no in range(0,no_of_cities):\n",
    "    \n",
    "    scale = int(df.Scale[city_no])\n",
    "    Lat0 = df.Latitude[city_no]\n",
    "    Long0 = df.Longitude[city_no]\n",
    "    LatLong0 = str(Lat0) + ','+str(Long0)\n",
    "    \n",
    "    print('======================================================')\n",
    "    print('city_no = ',city_no+1)\n",
    "    print('City = ',df.City[city_no])\n",
    "    print('max_images = ', ((df.Scale[city_no]+1)*(df.Scale[city_no]+1)))\n",
    "    print('_')\n",
    "\n",
    "    Lat1 = Lat0 + scale*dLat\n",
    "    Long1 = Long0 - scale*dLong\n",
    "    LatLong1 = str(Lat1) + ','+str(Long1)\n",
    "    \n",
    "    for i in range(scale+1):\n",
    "        for j in range(scale+1):\n",
    "            \n",
    "            Lati = Lat1 - i*dLat\n",
    "            Longi = Long1 + j*dLong\n",
    "            LatLongi = str(Lati) + ','+str(Longi)\n",
    "            \n",
    "            image_count = image_count + 1\n",
    "            image_number.append(image_count)\n",
    "            image_city.append(df.City[city_no])\n",
    "            image_state.append(df.State[city_no])\n",
    "            image_latitude.append(Lati)\n",
    "            image_longitude.append(Longi)\n",
    "            \n",
    "            print('image_count = ',image_count)\n",
    "\n",
    "            ##############################################################################################\n",
    "            \n",
    "            roadmap_url = 'https://maps.googleapis.com/maps/api/staticmap?zoom=16&size=620x640&scale=2\\\n",
    "                           &maptype=roadmap&center='+LatLongi+'&key='+API_KEY\n",
    "\n",
    "            response = requests.get(roadmap_url)            \n",
    "            im = Image.open(BytesIO(response.content))\n",
    "            image_name = 'roadmap_image_'+str(image_count)\n",
    "            im.save('images/roadmap/'+image_name+'.png')\n",
    "            \n",
    "            ##############################################################################################\n",
    "            \n",
    "            satellite_url = 'https://maps.googleapis.com/maps/api/staticmap?zoom=16&size=620x640&scale=2\\\n",
    "                           &maptype=satellite&center='+LatLongi+'&key='+API_KEY\n",
    "            \n",
    "            response = requests.get(satellite_url)\n",
    "            im = Image.open(BytesIO(response.content))\n",
    "            image_name = 'satellite_image_'+str(image_count)\n",
    "            im.save('images/satellite/'+image_name+'.png')\n",
    "            \n",
    "    df3 = pd.DataFrame()\n",
    "    \n",
    "    df2['ImageNumber'] = image_number\n",
    "    df3['City'] = image_city\n",
    "    df3['State'] = image_state\n",
    "    df3['Latitude'] = image_latitude\n",
    "    df3['Longitude'] = image_longitude\n",
    "    \n",
    "    df2 = df2.append(df3)\n",
    "\n",
    "end_time = time.time()\n",
    "\n",
    "print('Time per image = ', (end_time - start_time)/25 )"
   ]
  },
  {
   "cell_type": "code",
   "execution_count": null,
   "metadata": {},
   "outputs": [],
   "source": [
    "print('total time = ',(1.460147705078125 * 47000)/(60*60),'hours')"
   ]
  },
  {
   "cell_type": "code",
   "execution_count": null,
   "metadata": {},
   "outputs": [],
   "source": []
  },
  {
   "cell_type": "code",
   "execution_count": null,
   "metadata": {},
   "outputs": [],
   "source": []
  },
  {
   "cell_type": "code",
   "execution_count": null,
   "metadata": {},
   "outputs": [],
   "source": []
  },
  {
   "cell_type": "code",
   "execution_count": null,
   "metadata": {},
   "outputs": [],
   "source": []
  },
  {
   "cell_type": "code",
   "execution_count": null,
   "metadata": {},
   "outputs": [],
   "source": []
  },
  {
   "cell_type": "code",
   "execution_count": null,
   "metadata": {},
   "outputs": [],
   "source": []
  },
  {
   "cell_type": "code",
   "execution_count": null,
   "metadata": {},
   "outputs": [],
   "source": []
  },
  {
   "cell_type": "code",
   "execution_count": null,
   "metadata": {},
   "outputs": [],
   "source": []
  },
  {
   "cell_type": "code",
   "execution_count": null,
   "metadata": {},
   "outputs": [],
   "source": []
  },
  {
   "cell_type": "code",
   "execution_count": null,
   "metadata": {},
   "outputs": [],
   "source": []
  },
  {
   "cell_type": "code",
   "execution_count": null,
   "metadata": {},
   "outputs": [],
   "source": []
  },
  {
   "cell_type": "code",
   "execution_count": null,
   "metadata": {},
   "outputs": [],
   "source": []
  },
  {
   "cell_type": "code",
   "execution_count": null,
   "metadata": {},
   "outputs": [],
   "source": []
  },
  {
   "cell_type": "code",
   "execution_count": null,
   "metadata": {},
   "outputs": [],
   "source": []
  },
  {
   "cell_type": "code",
   "execution_count": null,
   "metadata": {},
   "outputs": [],
   "source": []
  },
  {
   "cell_type": "code",
   "execution_count": null,
   "metadata": {},
   "outputs": [],
   "source": []
  },
  {
   "cell_type": "code",
   "execution_count": null,
   "metadata": {},
   "outputs": [],
   "source": []
  },
  {
   "cell_type": "code",
   "execution_count": null,
   "metadata": {},
   "outputs": [],
   "source": []
  },
  {
   "cell_type": "code",
   "execution_count": null,
   "metadata": {},
   "outputs": [],
   "source": []
  },
  {
   "cell_type": "code",
   "execution_count": null,
   "metadata": {},
   "outputs": [],
   "source": []
  },
  {
   "cell_type": "code",
   "execution_count": null,
   "metadata": {},
   "outputs": [],
   "source": []
  },
  {
   "cell_type": "code",
   "execution_count": null,
   "metadata": {},
   "outputs": [],
   "source": []
  },
  {
   "cell_type": "code",
   "execution_count": null,
   "metadata": {},
   "outputs": [],
   "source": []
  },
  {
   "cell_type": "code",
   "execution_count": null,
   "metadata": {},
   "outputs": [],
   "source": []
  },
  {
   "cell_type": "code",
   "execution_count": null,
   "metadata": {},
   "outputs": [],
   "source": []
  },
  {
   "cell_type": "code",
   "execution_count": null,
   "metadata": {},
   "outputs": [],
   "source": []
  },
  {
   "cell_type": "code",
   "execution_count": null,
   "metadata": {},
   "outputs": [],
   "source": []
  },
  {
   "cell_type": "code",
   "execution_count": null,
   "metadata": {},
   "outputs": [],
   "source": []
  },
  {
   "cell_type": "code",
   "execution_count": null,
   "metadata": {},
   "outputs": [],
   "source": []
  },
  {
   "cell_type": "code",
   "execution_count": null,
   "metadata": {},
   "outputs": [],
   "source": []
  }
 ],
 "metadata": {
  "kernelspec": {
   "display_name": "Python 2",
   "language": "python",
   "name": "python2"
  },
  "language_info": {
   "codemirror_mode": {
    "name": "ipython",
    "version": 2
   },
   "file_extension": ".py",
   "mimetype": "text/x-python",
   "name": "python",
   "nbconvert_exporter": "python",
   "pygments_lexer": "ipython2",
   "version": "2.7.15"
  }
 },
 "nbformat": 4,
 "nbformat_minor": 2
}
